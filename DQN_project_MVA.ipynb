{
 "cells": [
  {
   "cell_type": "markdown",
   "metadata": {
    "colab_type": "text",
    "id": "OH0f011iN80u"
   },
   "source": [
    "**You may need to install [OpenCV](https://pypi.python.org/pypi/opencv-python) and [scikit-video](http://www.scikit-video.org/stable/).**"
   ]
  },
  {
   "cell_type": "code",
   "execution_count": 1,
   "metadata": {
    "colab": {
     "base_uri": "https://localhost:8080/",
     "height": 85
    },
    "colab_type": "code",
    "id": "Cs26z1IEOBfH",
    "outputId": "c6db04ae-cc8f-404a-85fe-d0ce234d1789"
   },
   "outputs": [
    {
     "name": "stdout",
     "output_type": "stream",
     "text": [
      "Requirement already satisfied: scikit-video in c:\\users\\louis\\anaconda3\\lib\\site-packages (1.1.11)\n",
      "Requirement already satisfied: scipy in c:\\users\\louis\\anaconda3\\lib\\site-packages (from scikit-video) (1.2.0)\n",
      "Requirement already satisfied: pillow in c:\\users\\louis\\anaconda3\\lib\\site-packages (from scikit-video) (5.3.0)\n",
      "Requirement already satisfied: numpy in c:\\users\\louis\\anaconda3\\lib\\site-packages (from scikit-video) (1.16.2)\n"
     ]
    }
   ],
   "source": [
    "!pip install scikit-video"
   ]
  },
  {
   "cell_type": "code",
   "execution_count": 2,
   "metadata": {
    "colab": {},
    "colab_type": "code",
    "id": "_PQW2LahN802"
   },
   "outputs": [
    {
     "name": "stderr",
     "output_type": "stream",
     "text": [
      "Using TensorFlow backend.\n"
     ]
    }
   ],
   "source": [
    "import keras\n",
    "import numpy as np\n",
    "import io\n",
    "import base64\n",
    "from IPython.display import HTML\n",
    "import skvideo.io\n",
    "import cv2\n",
    "import json\n",
    "import random\n",
    "import tqdm as tqdm\n",
    "\n",
    "from keras.models import Sequential, model_from_json\n",
    "from keras.layers.core import Dense, Dropout\n",
    "from keras.optimizers import sgd, adam\n",
    "from keras.layers import Conv2D, Conv3D, MaxPooling2D, Activation, AveragePooling2D, Reshape, BatchNormalization, Flatten"
   ]
  },
  {
   "cell_type": "code",
   "execution_count": 3,
   "metadata": {
    "colab": {},
    "colab_type": "code",
    "id": "S79YmMnc5Lrh"
   },
   "outputs": [],
   "source": [
    "import warnings\n",
    "warnings.filterwarnings(\"ignore\") # only if needed"
   ]
  },
  {
   "cell_type": "markdown",
   "metadata": {
    "colab_type": "text",
    "id": "ISppyWUIN81Q"
   },
   "source": [
    "# MiniProject on Deep Reinforcement Learning"
   ]
  },
  {
   "cell_type": "markdown",
   "metadata": {
    "colab_type": "text",
    "id": "XmSFBK7pN81V"
   },
   "source": [
    "__Notations__: $E_p$ is the expectation under probability $p$. Please justify each of your answer and widely comment your code."
   ]
  },
  {
   "cell_type": "markdown",
   "metadata": {
    "colab_type": "text",
    "id": "EUuEteCiN81Z"
   },
   "source": [
    "# Context"
   ]
  },
  {
   "cell_type": "markdown",
   "metadata": {
    "colab_type": "text",
    "id": "Nh6WXl58N81f"
   },
   "source": [
    "In a reinforcement learning algorithm, we modelize each step $t$ as an action $a_t$ obtained from a state $s_t$, i.e. $\\{(a_{t},s_{t})_{t\\leq T}\\}$ having the Markov property. We consider a discount factor $\\gamma \\in [0,1]$ that ensures convergence. The goal is to find among all the policies $\\pi$, one that maximizes the expected reward:\n",
    "\n",
    "\\begin{equation*}\n",
    "R(\\pi)=\\sum_{t\\leq T}E_{p^{\\pi}}[\\gamma^t r(s_{t},a_{t})] \\> ,\n",
    "\\end{equation*}\n",
    "\n",
    "where: \n",
    "\\begin{equation*}p^{\\pi}(a_{0},a_{1},s_{1},...,a_{T},s_{T})=p(a_{0})\\prod_{t=1}^{T}\\pi(a_{t}|s_{t})p(s_{t+1}|s_{t},a_{t}) \\> .\n",
    "\\end{equation*}\n",
    "\n",
    "We note the $Q$-function:\n",
    "\n",
    "\\begin{equation*}Q^\\pi(s,a)=E_{p^{\\pi}}[\\sum_{t\\leq T}\\gamma^{t}r(s_{t},a_{t})|s_{0}=s,a_{0}=a] \\> .\n",
    "\\end{equation*}\n",
    "\n",
    "Thus, the optimal Q function is:\n",
    "\\begin{equation*}\n",
    "Q^*(s,a)=\\max_{\\pi}Q^\\pi(s,a) \\> .\n",
    "\\end{equation*}\n",
    "\n",
    "In this project, we will apply the deep reinforcement learning techniques to a simple game: an agent will have to learn from scratch a policy that will permit it maximizing a reward."
   ]
  },
  {
   "cell_type": "markdown",
   "metadata": {
    "colab_type": "text",
    "id": "8RF-COsLN81h"
   },
   "source": [
    "## The environment, the agent and the game"
   ]
  },
  {
   "cell_type": "markdown",
   "metadata": {
    "colab_type": "text",
    "id": "YFwO_48UN81k"
   },
   "source": [
    "### The environment"
   ]
  },
  {
   "cell_type": "markdown",
   "metadata": {
    "colab_type": "text",
    "id": "ou35Q6NeN81r"
   },
   "source": [
    "```Environment``` is an abstract class that represents the states, rewards, and actions to obtain the new state."
   ]
  },
  {
   "cell_type": "code",
   "execution_count": 4,
   "metadata": {
    "colab": {},
    "colab_type": "code",
    "id": "HA_RK8bGN81v"
   },
   "outputs": [],
   "source": [
    "class Environment(object):\n",
    "    def __init__(self):\n",
    "        pass\n",
    "\n",
    "    def act(self, act):\n",
    "        \"\"\"\n",
    "        One can act on the environment and obtain its reaction:\n",
    "        - the new state\n",
    "        - the reward of the new state\n",
    "        - should we continue the game?\n",
    "\n",
    "        :return: state, reward, game_over\n",
    "        \"\"\"\n",
    "        pass\n",
    "\n",
    "\n",
    "    def reset(self):\n",
    "        \"\"\"\n",
    "        Reinitialize the environment to a random state and returns\n",
    "        the original state\n",
    "\n",
    "        :return: state\n",
    "        \"\"\"\n",
    "        pass\n",
    "    \n",
    "    def draw(self):\n",
    "        \"\"\"\n",
    "        Visualize in the console or graphically the current state\n",
    "        \"\"\"\n",
    "        pass"
   ]
  },
  {
   "cell_type": "markdown",
   "metadata": {
    "colab_type": "text",
    "id": "hgTFv8h-N818"
   },
   "source": [
    "The method ```act``` allows to act on the environment at a given state $s_t$ (stored internally), via action $a_t$. The method will return the new state $s_{t+1}$, the reward $r(s_{t},a_{t})$ and determines if $t\\leq T$ (*game_over*).\n",
    "\n",
    "The method ```reset``` simply reinitializes the environment to a random state $s_0$.\n",
    "\n",
    "The method ```draw``` displays the current state $s_t$ (this is useful to check the behavior of the Agent).\n",
    "\n",
    "We modelize $s_t$ as a tensor, while $a_t$ is an integer."
   ]
  },
  {
   "cell_type": "markdown",
   "metadata": {
    "colab_type": "text",
    "id": "0pScmDf2N82B"
   },
   "source": [
    "### The Agent"
   ]
  },
  {
   "cell_type": "markdown",
   "metadata": {
    "colab_type": "text",
    "id": "C6m3v8yoN82F"
   },
   "source": [
    "The goal of the ```Agent``` is to interact with the ```Environment``` by proposing actions $a_t$ obtained from a given state $s_t$ to attempt to maximize its __reward__ $r(s_t,a_t)$. We propose the following abstract class:"
   ]
  },
  {
   "cell_type": "code",
   "execution_count": 5,
   "metadata": {
    "colab": {},
    "colab_type": "code",
    "id": "RXwuCF4mN82I"
   },
   "outputs": [],
   "source": [
    "class Agent(object):\n",
    "    def __init__(self, epsilon=0.1, n_action=4):\n",
    "        self.epsilon = epsilon\n",
    "        self.n_action = n_action\n",
    "    \n",
    "    def set_epsilon(self,e):\n",
    "        self.epsilon = e\n",
    "\n",
    "    def act(self,s,train=True):\n",
    "        \"\"\" This function should return the next action to do:\n",
    "        an integer between 0 and 4 (not included) with a random exploration of epsilon\"\"\"\n",
    "        if train:\n",
    "            if np.random.rand() <= self.epsilon:\n",
    "                a = np.random.randint(0, self.n_action, size=1)[0]\n",
    "            else:\n",
    "                a = self.learned_act(s)\n",
    "        else: # in some cases, this can improve the performance.. remove it if poor performances\n",
    "            a = self.learned_act(s)\n",
    "\n",
    "        return a\n",
    "\n",
    "    def learned_act(self,s):\n",
    "        \"\"\" Act via the policy of the agent, from a given state s\n",
    "        it proposes an action a\"\"\"\n",
    "        pass\n",
    "\n",
    "    def reinforce(self, s, n_s, a, r, game_over_):\n",
    "        \"\"\" This function is the core of the learning algorithm. \n",
    "        It takes as an input the current state s_, the next state n_s_\n",
    "        the action a_ used to move from s_ to n_s_ and the reward r_.\n",
    "        \n",
    "        Its goal is to learn a policy.\n",
    "        \"\"\"\n",
    "        pass\n",
    "\n",
    "    def save(self):\n",
    "        \"\"\" This function returns basic stats if applicable: the\n",
    "        loss and/or the model\"\"\"\n",
    "        pass\n",
    "\n",
    "    def load(self):\n",
    "        \"\"\" This function allows to restore a model\"\"\"\n",
    "        pass"
   ]
  },
  {
   "cell_type": "markdown",
   "metadata": {
    "colab_type": "text",
    "id": "M1baFVzQN82S"
   },
   "source": [
    "***\n",
    "__Question 1__:\n",
    "Explain the function act. Why is ```epsilon``` essential?"
   ]
  },
  {
   "cell_type": "markdown",
   "metadata": {
    "colab_type": "text",
    "id": "NKMVS2T9N82U"
   },
   "source": [
    "Given a state `s`, the `act` function will return the action to take. But here we will not return our best action everytime (learned from the past), instead thanks to `epsilon` (the exploration parameter) we will take sometime (with probability `epsilon`) a random action. This parameter `epsilon` is essential in order to explore other options and also to try to get out of a local minima."
   ]
  },
  {
   "cell_type": "markdown",
   "metadata": {
    "colab_type": "text",
    "id": "RqUG45FjN82Y"
   },
   "source": [
    "***\n",
    "### The Game"
   ]
  },
  {
   "cell_type": "markdown",
   "metadata": {
    "colab_type": "text",
    "id": "YR06BXpcN82b"
   },
   "source": [
    "The ```Agent``` and the ```Environment``` work in an interlaced way as in the following (take some time to understand this code as it is the core of the project)\n",
    "\n",
    "```python\n",
    "\n",
    "epoch = 300\n",
    "env = Environment()\n",
    "agent = Agent()\n",
    "\n",
    "\n",
    "# Number of won games\n",
    "score = 0\n",
    "loss = 0\n",
    "\n",
    "\n",
    "for e in range(epoch):\n",
    "    # At each epoch, we restart to a fresh game and get the initial state\n",
    "    state = env.reset()\n",
    "    # This assumes that the games will end\n",
    "    game_over = False\n",
    "\n",
    "    win = 0\n",
    "    lose = 0\n",
    "    \n",
    "    while not game_over:\n",
    "        # The agent performs an action\n",
    "        action = agent.act(state)\n",
    "\n",
    "        # Apply an action to the environment, get the next state, the reward\n",
    "        # and if the games end\n",
    "        prev_state = state\n",
    "        state, reward, game_over = env.act(action)\n",
    "\n",
    "        # Update the counters\n",
    "        if reward > 0:\n",
    "            win = win + reward\n",
    "        if reward < 0:\n",
    "            lose = lose -reward\n",
    "\n",
    "        # Apply the reinforcement strategy\n",
    "        loss = agent.reinforce(prev_state, state,  action, reward, game_over)\n",
    "\n",
    "    # Save as a mp4\n",
    "    if e % 10 == 0:\n",
    "        env.draw(e)\n",
    "\n",
    "    # Update stats\n",
    "    score += win-lose\n",
    "\n",
    "    print(\"Epoch {:03d}/{:03d} | Loss {:.4f} | Win/lose count {}/{} ({})\"\n",
    "          .format(e, epoch, loss, win, lose, win-lose))\n",
    "    agent.save()\n",
    "```"
   ]
  },
  {
   "cell_type": "markdown",
   "metadata": {
    "colab_type": "text",
    "id": "I8uZdWL4N82e"
   },
   "source": [
    "# The game, *eat cheese*"
   ]
  },
  {
   "cell_type": "markdown",
   "metadata": {
    "colab_type": "text",
    "id": "Ny7y6SteN82h"
   },
   "source": [
    "A rat runs on an island and tries to eat as much as possible. The island is subdivided into $N\\times N$ cells, in which there are cheese (+0.5) and poisonous cells (-1). The rat has a visibility of 2 cells (thus it can see $5^2$ cells). The rat is given a time $T$ to accumulate as much food as possible. It can perform 4 actions: going up, down, left, right. \n",
    "\n",
    "The goal is to code an agent to solve this task that will learn by trial and error. We propose the following environment:"
   ]
  },
  {
   "cell_type": "code",
   "execution_count": 6,
   "metadata": {
    "colab": {},
    "colab_type": "code",
    "id": "zZq8g2_hN82k"
   },
   "outputs": [],
   "source": [
    "class Environment(object):\n",
    "    def __init__(self, grid_size=10, max_time=500, temperature=0.1):\n",
    "        grid_size = grid_size + 4 # just extend so we can code the borders (limits of the env.)\n",
    "        self.grid_size = grid_size # save the grid size\n",
    "        self.max_time = max_time # T, how much time before the game is over\n",
    "        self.temperature = temperature # probability of having a cheese, poison \"in a given cell\"\n",
    "\n",
    "        #board on which one plays\n",
    "        self.board = np.zeros((grid_size, grid_size)) # stores the bonus/malus (and so the cheese/poison positions): reward\n",
    "        self.position = np.zeros((grid_size, grid_size)) # the board (what the rat sees/ where is the rat/borders)\n",
    "\n",
    "        # coordinate of the rat\n",
    "        self.x = 0 # starting position x\n",
    "        self.y = 1 # starting position y\n",
    "\n",
    "        # self time\n",
    "        self.t = 0 # initialize the time t=0\n",
    "\n",
    "        self.scale = 16 # scale factor along the vertical axis (OpenCV)\n",
    "\n",
    "        self.to_draw = np.zeros((max_time + 2, grid_size * self.scale, grid_size * self.scale, 3)) # for the video\n",
    "\n",
    "\n",
    "    def draw(self, e):\n",
    "        skvideo.io.vwrite(str(e) + '.mp4', self.to_draw) # display the video (e: look for the number of epoch)\n",
    "\n",
    "    def get_frame(self, t):\n",
    "        b = np.zeros((self.grid_size, self.grid_size, 3)) + 128 # neutral cells are grey (128, 128, 128) in rgb\n",
    "        b[self.board > 0, 0] = 255 # cheese cells are yellow (255, 255, 0) in rgb\n",
    "        b[self.board > 0, 1] = 255 # cheese cells are yellow (255, 255, 0) in rgb\n",
    "        b[self.board > 0, 2] = 0 # cheese cells are yellow (255, 255, 0) in rgb\n",
    "        b[self.board < 0, 0] = 255 # poison cells are red (255, 0, 0) in rgb\n",
    "        b[self.board < 0, 1] = 0 # poison cells are red (255, 0, 0) in rgb\n",
    "        b[self.board < 0, 2] = 0 # poison cells are red (255, 0, 0) in rgb\n",
    "        b[self.x, self.y, 0] = 0 # rat's position is green (0, 128, 0) in rgb\n",
    "        b[self.x, self.y, 2] = 0 # rat's position is green (0, 128, 0) in rgb\n",
    "        b[self.x, self.y, 1] = 128 # rat's position is green (0, 128, 0) in rgb\n",
    "        b[-2:, :, :] = 0 # limit of the board is black\n",
    "        b[:, -2:, :] = 0 # limit of the board is black\n",
    "        b[:2, :, :] = 0 # limit of the board is black\n",
    "        b[:, :2, :] = 0 # limit of the board is black\n",
    "        \n",
    "        b =  cv2.resize(b, None, fx=self.scale, fy=self.scale, interpolation=cv2.INTER_NEAREST)\n",
    "\n",
    "        self.to_draw[t, :, :, :] = b # save the frame\n",
    "\n",
    "\n",
    "    def act(self, action):\n",
    "        \"\"\"This function returns the new state, reward and decides if the\n",
    "        game ends.\"\"\"\n",
    "\n",
    "        self.get_frame(int(self.t)) # stores the frame at time t\n",
    "\n",
    "        self.position = np.zeros((self.grid_size, self.grid_size)) # the board (what the rat sees/ where is the rat/borders)\n",
    "\n",
    "        \n",
    "                                     ## -1 -1 -1 -1 -1 -1 -1 -1\n",
    "                                     ## -1 -1 -1 -1 -1 -1 -1 -1\n",
    "        self.position[0:2, :] = -1   ## -1 -1  ok  ok ok  -1 -1\n",
    "        self.position[:, 0:2] = -1   ## -1 -1  ok  ok ok  -1 -1\n",
    "        self.position[-2:, :] = -1   ## -1 -1  ok  ok ok  -1 -1\n",
    "        self.position[:, -2:] = -1   ## -1 -1  ok  ok ok  -1 -1\n",
    "                                     ## -1 -1 -1 -1 -1 -1 -1 -1\n",
    "                                     ## -1 -1 -1 -1 -1 -1 -1 -1\n",
    "\n",
    "\n",
    "        self.position[self.x, self.y] = 1 # 1 where is the rat\n",
    "        if action == 0: # right\n",
    "            if self.x == self.grid_size - 3: # if on the last column\n",
    "                self.x = self.x-1 # we go to the left\n",
    "            else:\n",
    "                self.x = self.x + 1 # we go the right\n",
    "        elif action == 1: # left\n",
    "            if self.x == 2: # if on the 2th column\n",
    "                self.x = self.x+1 # we go to the right\n",
    "            else:\n",
    "                self.x = self.x-1 # we go to the left\n",
    "        elif action == 2: # down\n",
    "            if self.y == self.grid_size - 3: # if on the last row\n",
    "                self.y = self.y - 1 # we go up\n",
    "            else:\n",
    "                self.y = self.y + 1 # we go down\n",
    "        elif action == 3: # up\n",
    "            if self.y == 2: # if on the 2th row\n",
    "                self.y = self.y + 1 # we go down\n",
    "            else:\n",
    "                self.y = self.y - 1 # we go up\n",
    "        else:\n",
    "            RuntimeError('Error: action not recognized') \n",
    "\n",
    "        self.t = self.t + 1 # update the time\n",
    "        reward = self.board[self.x, self.y] # reward defines by the position\n",
    "        self.board[self.x, self.y] = 0 # we reset the reward at our position (we ate the poison/cheese)\n",
    "        game_over = self.t > self.max_time # game is over if t > T\n",
    "        state = np.concatenate((self.board.reshape(self.grid_size, self.grid_size, 1), # state of the game (board, position)\n",
    "                                self.position.reshape(self.grid_size, self.grid_size, 1)), axis=2)\n",
    "        state = state[self.x - 2:self.x + 3, self.y - 2:self.y + 3, :] # we can only see the area around the rat (5 * 5)\n",
    "        return state, reward, game_over\n",
    "\n",
    "    def reset(self):\n",
    "        \"\"\"This function resets the game and returns the initial state\"\"\"\n",
    "\n",
    "        ### initialize a random position for the rat\n",
    "        self.x = np.random.randint(3, self.grid_size - 3)\n",
    "        self.y = np.random.randint(3, self.grid_size - 3)\n",
    "\n",
    "        ### initialize the cheese\n",
    "        bonus = 0.5 * np.random.binomial(1, self.temperature, size=self.grid_size ** 2)\n",
    "        bonus = bonus.reshape(self.grid_size, self.grid_size)\n",
    "\n",
    "        ### initialize the poison\n",
    "        malus = - 1.0 * np.random.binomial(1, self.temperature, size=self.grid_size ** 2)\n",
    "        malus = malus.reshape(self.grid_size, self.grid_size)\n",
    "\n",
    "        ### clipboard animation initialization\n",
    "        self.to_draw = np.zeros((self.max_time + 2, self.grid_size * self.scale, self.grid_size * self.scale, 3))\n",
    "\n",
    "        ### if a cheese overlap with a poison we let the cheese and cancel the poison\n",
    "        malus[bonus > 0] = 0\n",
    "\n",
    "        ### construct the final board using the bonus (cheese) and malus (poison)\n",
    "        self.board = bonus + malus\n",
    "\n",
    "        ### initialize the position\n",
    "        self.position = np.zeros((self.grid_size, self.grid_size))\n",
    "        self.position[0:2, :]= -1\n",
    "        self.position[:, 0:2] = -1\n",
    "        self.position[-2:, :] = -1\n",
    "        self.position[:, -2:] = -1\n",
    "\n",
    "        ###  initialize the position of the rat (he eats the cheese or the poison!)\n",
    "        self.board[self.x, self.y] = 0\n",
    "\n",
    "        ### initialize the time\n",
    "        self.t = 0\n",
    "\n",
    "        ### construct the state using (board, position)\n",
    "        state = np.concatenate((self.board.reshape(self.grid_size, self.grid_size,1),\n",
    "                                self.position.reshape(self.grid_size, self.grid_size,1)),\n",
    "                               axis=2)\n",
    "        state = state[self.x - 2:self.x + 3, self.y - 2:self.y + 3, :] # we only see 5 * 5 around the (self.x, self.y)\n",
    "        return state"
   ]
  },
  {
   "cell_type": "markdown",
   "metadata": {
    "colab_type": "text",
    "id": "m3fzfCiNN82v"
   },
   "source": [
    "The following elements are important because they correspond to the hyper parameters for this project:"
   ]
  },
  {
   "cell_type": "code",
   "execution_count": 7,
   "metadata": {
    "colab": {},
    "colab_type": "code",
    "id": "ceqsjC5tN82y"
   },
   "outputs": [],
   "source": [
    "# parameters\n",
    "size = 13 # grid size\n",
    "T = 200 # how much time before the game is over\n",
    "temperature = 0.3 # probability of having a cheese/poison at a specific location\n",
    "epochs_train = 10 # set small when debugging\n",
    "epochs_test = 10 # set small when debugging\n",
    "\n",
    "# display videos\n",
    "def display_videos(name):\n",
    "    video = io.open(name, 'r+b').read()\n",
    "    encoded = base64.b64encode(video)\n",
    "    return '''<video alt=\"test\" controls>\n",
    "                <source src=\"data:video/mp4;base64,{0}\" type=\"video/mp4\" />\n",
    "             </video>'''.format(encoded.decode('ascii'))"
   ]
  },
  {
   "cell_type": "markdown",
   "metadata": {
    "colab_type": "text",
    "id": "VHm5XyenN83B"
   },
   "source": [
    "__Question 2__ Explain the use of the arrays ```position``` and ```board```."
   ]
  },
  {
   "cell_type": "markdown",
   "metadata": {
    "colab_type": "text",
    "id": "vIK4trJzN83F"
   },
   "source": [
    "With `position` we store the board (limits of the environment) and we use it in order to move the rat. In the other hand `board` is used to store the reward (bonus/malus) and we use it when the rat eats."
   ]
  },
  {
   "cell_type": "markdown",
   "metadata": {
    "colab_type": "text",
    "id": "xRlViMooN83H"
   },
   "source": [
    "## Random Agent"
   ]
  },
  {
   "cell_type": "markdown",
   "metadata": {
    "colab_type": "text",
    "id": "fEXZ6zS1N83L"
   },
   "source": [
    "***\n",
    "__Question 3__ Implement a random Agent (only ```learned_act``` needs to be implemented):"
   ]
  },
  {
   "cell_type": "code",
   "execution_count": 8,
   "metadata": {
    "colab": {},
    "colab_type": "code",
    "id": "OopgcqizN83P"
   },
   "outputs": [],
   "source": [
    "class RandomAgent(Agent):\n",
    "    def __init__(self):\n",
    "        super(RandomAgent, self).__init__()\n",
    "        pass\n",
    "\n",
    "    def learned_act(self, s):\n",
    "        return np.random.choice(4) # choose uniformly in {1, 2, 3, 4}"
   ]
  },
  {
   "cell_type": "markdown",
   "metadata": {
    "colab_type": "text",
    "id": "b8L4VPh0N83Z"
   },
   "source": [
    "***\n",
    "***\n",
    "__Question 4__ Visualize the game moves. You need to fill in the following function for the evaluation:"
   ]
  },
  {
   "cell_type": "code",
   "execution_count": 9,
   "metadata": {
    "colab": {},
    "colab_type": "code",
    "id": "dFnWAgOwN83n"
   },
   "outputs": [],
   "source": [
    "def test(agent, env, epochs, prefix=''):\n",
    "    # Number of won games\n",
    "    score = 0\n",
    "    \n",
    "    for e in range(epochs):\n",
    "        \n",
    "        ##### FILL IN HERE\n",
    "        state = env.reset() # first reset the environment\n",
    "        game_over = False # initialize 'game_over'\n",
    "        win, lose = 0, 0 # initialize win/lose\n",
    "        while not game_over: # loop while it's not over\n",
    "            if prefix == 'random':\n",
    "                action = agent.learned_act(state) # take action with the agent\n",
    "            elif prefix == 'cnn_test_explore':\n",
    "                action = agent.learned_act(state.flatten().reshape(1, 5, 5, 3)) # take action with the agent\n",
    "            elif prefix == 'fc_train':\n",
    "                action = agent.learned_act(state.flatten().reshape(1, -1)) # take action with the agent\n",
    "            else:\n",
    "                action = agent.learned_act(state.reshape(1, 5, 5, 2)) # take action with the agent\n",
    "            \n",
    "            if prefix == 'cnn_test_explore':\n",
    "                state, reward, game_over = env.act(action, train=False) # update the env. with the action\n",
    "            else:\n",
    "                state, reward, game_over = env.act(action) # update the env. with the action\n",
    "            if reward > 0: # update win/lose\n",
    "                win += reward\n",
    "            else:\n",
    "                lose -= reward\n",
    "\n",
    "        # Save as a mp4\n",
    "        env.draw(prefix + str(e))\n",
    "\n",
    "        # Update stats\n",
    "        score = score + win - lose\n",
    "\n",
    "        print(f\"Epoch {e}, win/lose count {win}/{lose}, average score ({np.round(score / (1 + e), 2)})\")\n",
    "    print(f'Final score: {score / epochs}')"
   ]
  },
  {
   "cell_type": "code",
   "execution_count": 10,
   "metadata": {
    "colab": {
     "base_uri": "https://localhost:8080/",
     "height": 480
    },
    "colab_type": "code",
    "id": "o0kK7GqHN83x",
    "outputId": "9c0ae008-459c-49cb-b01c-9ff1797b6d1d"
   },
   "outputs": [
    {
     "name": "stdout",
     "output_type": "stream",
     "text": [
      "Epoch 0, win/lose count 10.5/12.0, average score (-1.5)\n",
      "Epoch 1, win/lose count 9.0/28.0, average score (-10.25)\n",
      "Epoch 2, win/lose count 10.0/8.0, average score (-6.17)\n",
      "Epoch 3, win/lose count 8.0/7.0, average score (-4.38)\n",
      "Epoch 4, win/lose count 8.5/14.0, average score (-4.6)\n",
      "Epoch 5, win/lose count 9.0/14.0, average score (-4.67)\n",
      "Epoch 6, win/lose count 7.5/19.0, average score (-5.64)\n",
      "Epoch 7, win/lose count 10.0/10.0, average score (-4.94)\n",
      "Epoch 8, win/lose count 9.5/20.0, average score (-5.56)\n",
      "Epoch 9, win/lose count 11.0/16.0, average score (-5.5)\n",
      "Final score: -5.5\n",
      "\n",
      "Cheese in yellow and poison in red\n"
     ]
    },
    {
     "data": {
      "text/html": [
       "<video alt=\"test\" controls>\n",
       "                <source src=\"data:video/mp4;base64,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\" type=\"video/mp4\" />\n",
       "             </video>"
      ],
      "text/plain": [
       "<IPython.core.display.HTML object>"
      ]
     },
     "execution_count": 10,
     "metadata": {},
     "output_type": "execute_result"
    }
   ],
   "source": [
    "# Initialize the game\n",
    "env = Environment(grid_size=size, max_time=T, temperature=temperature)\n",
    "\n",
    "# Initialize the agent!\n",
    "agent = RandomAgent()\n",
    "\n",
    "# run the agent\n",
    "test(agent, env, epochs_test, prefix='random')\n",
    "\n",
    "# display the result\n",
    "print(\"\\nCheese in yellow and poison in red\")\n",
    "HTML(display_videos('random0.mp4')) # don't need to look other videos since it is random"
   ]
  },
  {
   "cell_type": "markdown",
   "metadata": {
    "colab_type": "text",
    "id": "X5L_gfNVN836"
   },
   "source": [
    "***\n",
    "## DQN"
   ]
  },
  {
   "cell_type": "markdown",
   "metadata": {
    "colab_type": "text",
    "id": "p9jHu2HaN83-"
   },
   "source": [
    "Let us assume here that $T=\\infty$.\n",
    "\n",
    "***\n",
    "__Question 5__ Let $\\pi$ be a policy, show that:\n",
    "\n",
    "\\begin{equation*}\n",
    "Q^{\\pi}(s,a)=E_{(s',a')\\sim p(.|s,a)}[r(s,a)+\\gamma Q^{\\pi}(s',a')]\n",
    "\\end{equation*}\n",
    "\n",
    "Then, show that for the optimal policy $\\pi^*$ (we assume its existence), the following holds: \n",
    "\n",
    "\\begin{equation*}\n",
    "Q^{*}(s,a)=E_{s'\\sim \\pi^*(.|s,a)}[r(s,a)+\\gamma\\max_{a'}Q^{*}(s',a')].\n",
    "\\end{equation*}\n",
    "Finally, deduce that a plausible objective is:\n",
    "\n",
    "\\begin{equation*}\n",
    "\\mathcal{L}(\\theta)=E_{s' \\sim \\pi^*(.|s,a)}\\Vert r+\\gamma\\max\\max_{a'}Q(s',a',\\theta)-Q(s,a,\\theta)\\Vert^{2}.\n",
    "\\end{equation*}\n",
    "\n",
    "\n"
   ]
  },
  {
   "cell_type": "markdown",
   "metadata": {},
   "source": [
    "Starting from the definition:\n",
    "\n",
    "$$ Q^\\pi(s,a) = E_{p^{\\pi}}\\left[\\sum_{t=0}^T\\gamma^{t}r(s_{t},a_{t})|s_{0}=s,a_{0}=a\\right] = E_{p^{\\pi}}\\left[ r(s, a) + \\sum_{t=1}^T \\gamma^{t}r(s_{t},a_{t})|s_{0}=s,a_{0}=a\\right] = E_{p^{\\pi}}\\left[ r(s, a) + \\gamma\\sum_{t=0}^T \\gamma^{t}r(s_{t},a_{t})|s_{0}=s',a_{0}=a'\\right] = E_{(s',a')\\sim p(.|s,a)}[r(s,a)+\\gamma Q^{\\pi}(s',a')]$$\n",
    "\n",
    "As $Q^*(s,a)= \\underset{\\pi}{\\max} Q^\\pi(s,a)$ thus the only \"problem\" is inside the expectation. In fact, we will not compute the expectation given $(s', a') \\sim p(.|s,a)$ now because as we look over all action to find the maximum $Q$ value. Therefore we just compute the expectation with $s'\\sim p(.|s, a)$ and we have the result.\n",
    "\n",
    "Finally a plausible objective is just to compute the mean squared error of the target $Q$, which is $r+\\gamma\\max\\max_{a'}Q(s',a',\\theta)$, and the prediction of our model, which is $Q(s,a,\\theta)$ (because we just want to find a fixed point). N.b. here $\\theta$ are all the parameters of the model we use to compute/estimate the $Q$ function/values."
   ]
  },
  {
   "cell_type": "markdown",
   "metadata": {
    "colab_type": "text",
    "id": "NDFZ8a-nN84D"
   },
   "source": [
    "***\n",
    "The DQN-learning algorithm relies on these derivations to train the parameters $\\theta$ of a Deep Neural Network:\n",
    "\n",
    "1. At the state $s_t$, select the action $a_t$ with best reward using $Q_t$ and store the results;\n",
    "\n",
    "2. Obtain the new state $s_{t+1}$ from the environment $p$;\n",
    "\n",
    "3. Store $(s_t,a_t,s_{t+1})$;\n",
    "\n",
    "4. Obtain $Q_{t+1}$ by minimizing  $\\mathcal{L}$ from a recovered batch from the previously stored results.\n",
    "\n",
    "***\n",
    "__Question 6__ Implement the class ```Memory``` that stores moves (in a replay buffer) via ```remember``` and provides a ```random_access``` to these. Specify a maximum memory size to avoid side effects. You can for example use a ```list()``` and set by default ```max_memory=100```."
   ]
  },
  {
   "cell_type": "code",
   "execution_count": 11,
   "metadata": {
    "colab": {},
    "colab_type": "code",
    "id": "jAK2wF5tN84E"
   },
   "outputs": [],
   "source": [
    "class Memory(object):\n",
    "    def __init__(self, max_memory=100):\n",
    "        self.max_memory = max_memory # maximum elements stored\n",
    "        self.memory = list() # initialize the memory\n",
    "\n",
    "    def remember(self, m):\n",
    "        if len(self.memory) <= self.max_memory: # if not full\n",
    "            self.memory.append(m) # store element m at the end\n",
    "        else:\n",
    "            self.memory = self.memory[1:] # remove the first element\n",
    "            self.memory.append(m) # store element m at the end\n",
    "\n",
    "    def random_access(self, batch_size):\n",
    "        return random.sample(self.memory, batch_size) # random sample, from memory, of size batch_size"
   ]
  },
  {
   "cell_type": "markdown",
   "metadata": {
    "colab_type": "text",
    "id": "SIkR03LpN84K"
   },
   "source": [
    "***\n",
    "The pipeline we will use for training is given below:"
   ]
  },
  {
   "cell_type": "code",
   "execution_count": 12,
   "metadata": {
    "colab": {},
    "colab_type": "code",
    "id": "LfheCQXfN84M"
   },
   "outputs": [],
   "source": [
    "def train(agent, env, epoch, prefix=''):\n",
    "    # Number of won games\n",
    "    score = 0\n",
    "    loss = 0\n",
    "\n",
    "    for e in tqdm.tqdm_notebook(range(epoch)):\n",
    "        # At each epoch, we restart to a fresh game and get the initial state\n",
    "        state = env.reset()\n",
    "\n",
    "        # This assumes that the games will terminate\n",
    "        game_over = False\n",
    "\n",
    "        win = 0\n",
    "        lose = 0\n",
    "\n",
    "        while not game_over:\n",
    "            # The agent performs an action\n",
    "            if prefix == 'fc_train':\n",
    "                action = agent.learned_act(state.flatten().reshape(1, -1)) # take action with the agent\n",
    "            else:\n",
    "                action = agent.learned_act(state.reshape(1, 5, 5, 2)) # take action with the agent\n",
    "\n",
    "            # Apply an action to the environment, get the next state, the reward\n",
    "            # and if the games end\n",
    "            prev_state = state\n",
    "            state, reward, game_over = env.act(action)\n",
    "\n",
    "            # Update the counters\n",
    "            if reward > 0:\n",
    "                win = win + reward\n",
    "            if reward < 0:\n",
    "                lose = lose - reward\n",
    "\n",
    "            # Apply the reinforcement strategy\n",
    "            loss = agent.reinforce(prev_state, state,  action, reward, game_over, prefix)\n",
    "        \n",
    "\n",
    "        # Save as a mp4\n",
    "        if e % 10 == 0:\n",
    "            env.draw(prefix + str(e))\n",
    "\n",
    "        # Update stats\n",
    "        score += win - lose\n",
    "\n",
    "        print(f\"Epoch {e}/{epoch}, loss {round(np.float64(loss), 4)}, win/lose count {win}/{lose} ({win - lose})\")\n",
    "        agent.save(name_weights=prefix+'model.h5',name_model=prefix+'model.json')"
   ]
  },
  {
   "cell_type": "markdown",
   "metadata": {
    "colab_type": "text",
    "id": "mL8rvPzRN84V"
   },
   "source": [
    "***\n",
    "__Question 7__ Implement the DQN training algorithm using a cascade of fully connected layers. You can use different learning rate, batch size or memory size parameters. In particular, the loss might oscillate while the player will start to win the games. You have to find a good criterium."
   ]
  },
  {
   "cell_type": "code",
   "execution_count": 20,
   "metadata": {
    "colab": {},
    "colab_type": "code",
    "id": "Tmj5qFqSN84X"
   },
   "outputs": [],
   "source": [
    "class DQN(Agent):\n",
    "    def __init__(self, grid_size,  epsilon=0.1, memory_size=100, batch_size=16, n_state=2):\n",
    "        super(DQN, self).__init__(epsilon=epsilon)\n",
    "        self.epsilon = epsilon \n",
    "\n",
    "        # Discount for Q learning (gamma)\n",
    "        self.discount = 0.99\n",
    "        \n",
    "        self.grid_size = grid_size\n",
    "        \n",
    "        # number of state\n",
    "        self.n_state = n_state\n",
    "\n",
    "        # Memory\n",
    "        self.memory = Memory(memory_size)\n",
    "        \n",
    "        # Batch size when learning\n",
    "        self.batch_size = batch_size\n",
    "\n",
    "    def learned_act(self, s):\n",
    "        if np.random.rand() >= self.epsilon: # epsilon exploration strategy\n",
    "            return np.argmax(agent.model.predict(s), axis=1) # our best action\n",
    "        else:\n",
    "            return np.random.choice(4) # random action\n",
    "\n",
    "    def reinforce(self, state, next_state, action, reward, game_over, prefix):\n",
    "        ### Two steps: first memorize the states, second learn from the pool\n",
    "        ### 1) memorize\n",
    "        self.memory.remember([state, next_state, action, reward, game_over])\n",
    "\n",
    "        ### 2) learn from the pool\n",
    "        input_states = np.zeros((self.batch_size, 5, 5, self.n_state))\n",
    "        target_q = np.zeros((self.batch_size, 4))\n",
    "\n",
    "        if len(self.memory.memory) < self.batch_size: # if not enaugh elements in memory we do nothing\n",
    "            return 1e5 # unknow (loss)\n",
    "        \n",
    "        samples =  self.memory.random_access(self.batch_size) # random samples from the memory\n",
    "        for i in range(self.batch_size):\n",
    "            \n",
    "            ### get elements from memory[i]\n",
    "            input_states[i], next_s, a, r, end = samples[i] # state, next_state, action, reward, game_over\n",
    "                \n",
    "            ### update the target\n",
    "            if end:\n",
    "                target_q[i, a] = r \n",
    "            else:\n",
    "                ### compute max_a Q(nex_state, a) using the model\n",
    "                if prefix == 'fc_train':\n",
    "                    Q_next_state = np.max(agent.model.predict(next_s.flatten().reshape(1, -1)))\n",
    "                elif prefix == 'cnn_train_explore':\n",
    "                    Q_next_state = np.max(agent.model.predict(next_s.flatten().reshape(1, 5, 5, 3)))\n",
    "                else:\n",
    "                    Q_next_state = np.max(agent.model.predict(next_s.reshape(1, 5, 5, 2)))\n",
    "                    \n",
    "                ### r + gamma * max_a Q(nex_state, a)\n",
    "                target_q[i, a] = r + self.discount * Q_next_state\n",
    "\n",
    "        # HINT: Clip the target to avoid exploiding gradients.. -- clipping is a bit tighter\n",
    "        target_q = np.clip(target_q, -3, 3)\n",
    "\n",
    "        ### train the model on the batch\n",
    "        if prefix == 'fc_train':\n",
    "            input_data = np.array([input_states[i].flatten().reshape(-1) for i in range(self.batch_size)])\n",
    "            loss = self.model.train_on_batch(input_data, target_q)\n",
    "        elif prefix == 'cnn_train_explore':\n",
    "            input_data = np.array([input_states[i].flatten().reshape(5, 5, 3) for i in range(self.batch_size)])\n",
    "            loss = self.model.train_on_batch(input_data, target_q)\n",
    "        else:\n",
    "            input_data = np.array([input_states[i].reshape(5, 5, 2) for i in range(self.batch_size)]) \n",
    "            loss = self.model.train_on_batch(input_data, target_q)\n",
    "            \n",
    "        return loss\n",
    "\n",
    "    def save(self,name_weights='model.h5',name_model='model.json'):\n",
    "        self.model.save_weights(name_weights, overwrite=True)\n",
    "        with open(name_model, \"w\") as outfile:\n",
    "            json.dump(self.model.to_json(), outfile)\n",
    "            \n",
    "    def load(self,name_weights='model.h5',name_model='model.json'):\n",
    "        with open(name_model, \"r\") as jfile:\n",
    "            model = model_from_json(json.load(jfile))\n",
    "        model.load_weights(name_weights)\n",
    "        model.compile(\"sgd\", \"mse\")\n",
    "        self.model = model\n",
    "\n",
    "            \n",
    "class DQN_FC(DQN):\n",
    "    def __init__(self, *args, lr=0.1, **kwargs):\n",
    "        super(DQN_FC, self).__init__( *args, **kwargs)\n",
    "        \n",
    "        ### NN Model\n",
    "        model = Sequential() \n",
    "\n",
    "        #Input layer\n",
    "        model.add(Dense(units=200, input_dim=50, activation='relu'))\n",
    "        model.add(Dropout(0.25))\n",
    "\n",
    "        #Hidden layer 1\n",
    "        model.add(Dense(units=200, activation='relu'))\n",
    "        model.add(Dropout(0.5))\n",
    "\n",
    "        #Output layer\n",
    "        model.add(Dense(units=4, activation=None))\n",
    "        \n",
    "        ####### FILL IN\n",
    "        \n",
    "        model.compile(adam(lr=lr), \"mse\")\n",
    "        self.model = model"
   ]
  },
  {
   "cell_type": "code",
   "execution_count": 21,
   "metadata": {
    "colab": {
     "base_uri": "https://localhost:8080/",
     "height": 512,
     "referenced_widgets": [
      "635afb59e45b49a6ba1677819b2191e7",
      "c4b39e8bc9b846778702dd4be575ab38",
      "b95c8f2044854174bba824e159c8d0fe",
      "85ed21bbd9b94df7bcc25ed09c8b37f5",
      "c7f98f9f5da94c24a2d862a053a61de9",
      "e06aa950c3a24b9eb01736a8402cc2b0",
      "3ce2b8e1e1564962887c7f28cce4f616",
      "2a0d00491d194b2ab29a7031a455170c"
     ]
    },
    "colab_type": "code",
    "id": "nEmtWMe8N84f",
    "outputId": "22e284fa-c530-4369-f500-fcf0b66bac88"
   },
   "outputs": [
    {
     "data": {
      "application/vnd.jupyter.widget-view+json": {
       "model_id": "ba949357a2054cd0b35533469a914df4",
       "version_major": 2,
       "version_minor": 0
      },
      "text/plain": [
       "HBox(children=(IntProgress(value=0, max=21), HTML(value='')))"
      ]
     },
     "metadata": {},
     "output_type": "display_data"
    },
    {
     "name": "stdout",
     "output_type": "stream",
     "text": [
      "Epoch 0/21, loss 0.006, win/lose count 6.5/2.0 (4.5)\n",
      "Epoch 1/21, loss 0.0006, win/lose count 2.0/2.0 (0.0)\n",
      "Epoch 2/21, loss 0.001, win/lose count 1.0/8.0 (-7.0)\n",
      "Epoch 3/21, loss 0.0019, win/lose count 3.5/2.0 (1.5)\n",
      "Epoch 4/21, loss 0.0002, win/lose count 5.0/4.0 (1.0)\n",
      "Epoch 5/21, loss 0.0024, win/lose count 5.0/3.0 (2.0)\n",
      "Epoch 6/21, loss 0.0079, win/lose count 6.0/4.0 (2.0)\n",
      "Epoch 7/21, loss 0.0053, win/lose count 5.5/3.0 (2.5)\n",
      "Epoch 8/21, loss 0.004, win/lose count 3.5/2.0 (1.5)\n",
      "Epoch 9/21, loss 0.0036, win/lose count 7.0/3.0 (4.0)\n",
      "Epoch 10/21, loss 0.0032, win/lose count 6.5/8.0 (-1.5)\n",
      "Epoch 11/21, loss 0.0056, win/lose count 5.5/5.0 (0.5)\n",
      "Epoch 12/21, loss 0.0065, win/lose count 6.5/5.0 (1.5)\n",
      "Epoch 13/21, loss 0.0103, win/lose count 7.5/5.0 (2.5)\n",
      "Epoch 14/21, loss 0.0099, win/lose count 17.5/5.0 (12.5)\n",
      "Epoch 15/21, loss 0.0015, win/lose count 14.5/6.0 (8.5)\n",
      "Epoch 16/21, loss 0.0053, win/lose count 16.5/6.0 (10.5)\n",
      "Epoch 17/21, loss 0.0104, win/lose count 12.5/5.0 (7.5)\n",
      "Epoch 18/21, loss 0.002, win/lose count 15.5/4.0 (11.5)\n",
      "Epoch 19/21, loss 0.0156, win/lose count 18.5/3.0 (15.5)\n",
      "Epoch 20/21, loss 0.0158, win/lose count 16.5/14.0 (2.5)\n",
      "\n"
     ]
    },
    {
     "data": {
      "text/html": [
       "<video alt=\"test\" controls>\n",
       "                <source src=\"data:video/mp4;base64,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\" type=\"video/mp4\" />\n",
       "             </video>"
      ],
      "text/plain": [
       "<IPython.core.display.HTML object>"
      ]
     },
     "execution_count": 21,
     "metadata": {},
     "output_type": "execute_result"
    }
   ],
   "source": [
    "epochs_train = 21 # set small when debugging\n",
    "env = Environment(grid_size=size, max_time=T, temperature=0.3)\n",
    "agent = DQN_FC(size, lr=0.001, epsilon=0.1, memory_size=2000, batch_size=32)\n",
    "train(agent, env, epochs_train, prefix='fc_train')\n",
    "HTML(display_videos('fc_train20.mp4'))"
   ]
  },
  {
   "cell_type": "markdown",
   "metadata": {
    "colab_type": "text",
    "id": "-M9Y_YtYN84l"
   },
   "source": [
    "***\n",
    "***\n",
    "__Question 8__ Implement the DQN training algorithm using a CNN (for example, 2 convolutional layers and one final fully connected layer)."
   ]
  },
  {
   "cell_type": "code",
   "execution_count": 22,
   "metadata": {
    "colab": {},
    "colab_type": "code",
    "id": "bZ03CPRpN84n"
   },
   "outputs": [],
   "source": [
    "class DQN_CNN(DQN):\n",
    "    def __init__(self, *args, lr=0.1, n_state=2, **kwargs):\n",
    "        super(DQN_CNN, self).__init__(*args, **kwargs)\n",
    "        \n",
    "        self.n_state = n_state\n",
    "        ###### FILL IN\n",
    "        ### create model\n",
    "        model = Sequential()\n",
    "        model.add(Conv2D(16, kernel_size=2, activation='relu', input_shape=(5, 5, n_state)))\n",
    "#         model.add(Conv2D(32, kernel_size=2, activation='relu'))\n",
    "        model.add(Flatten())\n",
    "        model.add(Dense(32, activation='relu'))\n",
    "        model.add(Dense(4, activation=None))\n",
    "        \n",
    "        model.compile(adam(lr=lr), \"mse\")\n",
    "        self.model = model"
   ]
  },
  {
   "cell_type": "code",
   "execution_count": 23,
   "metadata": {
    "colab": {
     "base_uri": "https://localhost:8080/",
     "height": 512,
     "referenced_widgets": [
      "d185d8c910cc450f8e99d78e38ec6731",
      "6986284889c94699bfccc85292a66362",
      "33167516be44477d9554498579b632a5",
      "2682e36f3e9b44a6b062737849dcf427",
      "f5cc298c97fa44fab16e1a752581685c",
      "95c3bc4d35d94ccdbb3fdedd734ac18c",
      "92015ea17d2d41cb9e5d49191a93cf00",
      "495c6b6613144212b6e1af8878b7e89c"
     ]
    },
    "colab_type": "code",
    "id": "WaoXcuzWN84v",
    "outputId": "53eee377-7776-42ad-fbca-168f4f119e64"
   },
   "outputs": [
    {
     "data": {
      "application/vnd.jupyter.widget-view+json": {
       "model_id": "a42dc7c80c974943920aed0a59b67473",
       "version_major": 2,
       "version_minor": 0
      },
      "text/plain": [
       "HBox(children=(IntProgress(value=0, max=21), HTML(value='')))"
      ]
     },
     "metadata": {},
     "output_type": "display_data"
    },
    {
     "name": "stdout",
     "output_type": "stream",
     "text": [
      "Epoch 0/21, loss 0.0014, win/lose count 2.5/6.0 (-3.5)\n",
      "Epoch 1/21, loss 0.0005, win/lose count 1.5/4.0 (-2.5)\n",
      "Epoch 2/21, loss 0.0089, win/lose count 6.0/5.0 (1.0)\n",
      "Epoch 3/21, loss 0.0105, win/lose count 12.5/7.0 (5.5)\n",
      "Epoch 4/21, loss 0.0103, win/lose count 10.5/6.0 (4.5)\n",
      "Epoch 5/21, loss 0.0038, win/lose count 10.0/2.0 (8.0)\n",
      "Epoch 6/21, loss 0.0185, win/lose count 11.5/4.0 (7.5)\n",
      "Epoch 7/21, loss 0.0042, win/lose count 9.5/3.0 (6.5)\n",
      "Epoch 8/21, loss 0.0066, win/lose count 3.5/3.0 (0.5)\n",
      "Epoch 9/21, loss 0.0233, win/lose count 13.0/3.0 (10.0)\n",
      "Epoch 10/21, loss 0.014, win/lose count 9.5/6.0 (3.5)\n",
      "Epoch 11/21, loss 0.0115, win/lose count 5.5/3.0 (2.5)\n",
      "Epoch 12/21, loss 0.0129, win/lose count 10.0/5.0 (5.0)\n",
      "Epoch 13/21, loss 0.0102, win/lose count 13.5/5.0 (8.5)\n",
      "Epoch 14/21, loss 0.003, win/lose count 9.0/8.0 (1.0)\n",
      "Epoch 15/21, loss 0.0084, win/lose count 5.5/6.0 (-0.5)\n",
      "Epoch 16/21, loss 0.0052, win/lose count 9.0/5.0 (4.0)\n",
      "Epoch 17/21, loss 0.0127, win/lose count 7.0/5.0 (2.0)\n",
      "Epoch 18/21, loss 0.0137, win/lose count 6.0/4.0 (2.0)\n",
      "Epoch 19/21, loss 0.0111, win/lose count 9.0/4.0 (5.0)\n",
      "Epoch 20/21, loss 0.0027, win/lose count 10.0/3.0 (7.0)\n",
      "\n"
     ]
    },
    {
     "data": {
      "text/html": [
       "<video alt=\"test\" controls>\n",
       "                <source src=\"data:video/mp4;base64,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\" type=\"video/mp4\" />\n",
       "             </video>"
      ],
      "text/plain": [
       "<IPython.core.display.HTML object>"
      ]
     },
     "execution_count": 23,
     "metadata": {},
     "output_type": "execute_result"
    }
   ],
   "source": [
    "env = Environment(grid_size=size, max_time=T, temperature=0.3)\n",
    "agent = DQN_CNN(size, lr=0.001, epsilon=0.1, memory_size=2000, batch_size=32)\n",
    "train(agent, env, epochs_train, prefix='cnn_train')\n",
    "HTML(display_videos('cnn_train10.mp4'))"
   ]
  },
  {
   "cell_type": "markdown",
   "metadata": {
    "colab_type": "text",
    "id": "4SKJqwY4N843"
   },
   "source": [
    "***\n",
    "***\n",
    "__Question 9__ Test both algorithms and compare their performances. Which issue(s) do you observe? Observe also different behaviors by changing the temperature."
   ]
  },
  {
   "cell_type": "code",
   "execution_count": 30,
   "metadata": {
    "colab": {
     "base_uri": "https://localhost:8080/",
     "height": 459
    },
    "colab_type": "code",
    "id": "_IEVjDaCN844",
    "outputId": "d0af3625-1e8f-42f4-b6a8-b99793fa597a"
   },
   "outputs": [
    {
     "name": "stdout",
     "output_type": "stream",
     "text": [
      "Test of the CNN\n",
      "Epoch 0, win/lose count 2.0/5.0, average score (-3.0)\n",
      "Epoch 1, win/lose count 3.0/3.0, average score (-1.5)\n",
      "Epoch 2, win/lose count 5.5/1.0, average score (0.5)\n",
      "Epoch 3, win/lose count 5.0/3.0, average score (0.88)\n",
      "Epoch 4, win/lose count 6.0/1.0, average score (1.7)\n",
      "Epoch 5, win/lose count 4.5/3.0, average score (1.67)\n",
      "Epoch 6, win/lose count 8.5/7.0, average score (1.64)\n",
      "Epoch 7, win/lose count 5.5/3.0, average score (1.75)\n",
      "Epoch 8, win/lose count 4.0/2.0, average score (1.78)\n",
      "Epoch 9, win/lose count 6.0/2.0, average score (2.0)\n",
      "Epoch 10, win/lose count 6.5/4.0, average score (2.05)\n",
      "Final score: 2.0454545454545454\n",
      "Test of the FC\n",
      "Epoch 0, win/lose count 6.5/2.0, average score (4.5)\n",
      "Epoch 1, win/lose count 3.0/1.0, average score (3.25)\n",
      "Epoch 2, win/lose count 2.5/3.0, average score (2.0)\n",
      "Epoch 3, win/lose count 3.0/3.0, average score (1.5)\n",
      "Epoch 4, win/lose count 5.0/2.0, average score (1.8)\n",
      "Epoch 5, win/lose count 9.5/5.0, average score (2.25)\n",
      "Epoch 6, win/lose count 3.0/2.0, average score (2.07)\n",
      "Epoch 7, win/lose count 7.5/3.0, average score (2.38)\n",
      "Epoch 8, win/lose count 3.0/5.0, average score (1.89)\n",
      "Epoch 9, win/lose count 5.0/4.0, average score (1.8)\n",
      "Epoch 10, win/lose count 3.0/2.0, average score (1.73)\n",
      "Final score: 1.7272727272727273\n"
     ]
    }
   ],
   "source": [
    "### initialize env \n",
    "env = Environment(grid_size=size, max_time=T, temperature=0.1)\n",
    "\n",
    "### parameters\n",
    "epochs_test = 11\n",
    "\n",
    "### test CNN\n",
    "print('Test of the CNN')\n",
    "agent_cnn = DQN_CNN(size, lr=0.001, epsilon=0.1, memory_size=2000, batch_size=32)\n",
    "agent_cnn.load(name_weights='cnn_trainmodel.h5', name_model='cnn_trainmodel.json')\n",
    "test(agent_cnn, env, epochs_test, prefix='cnn_test')\n",
    "\n",
    "### test FC\n",
    "print('Test of the FC')\n",
    "agent_fc = DQN_FC(size, lr=0.001, epsilon=0.1, memory_size=2000, batch_size=32)\n",
    "agent_fc.load(name_weights='fc_trainmodel.h5', name_model='fc_trainmodel.json')\n",
    "test(agent_fc,env, epochs_test, prefix='fc_test')"
   ]
  },
  {
   "cell_type": "code",
   "execution_count": 33,
   "metadata": {
    "colab": {
     "base_uri": "https://localhost:8080/",
     "height": 293
    },
    "colab_type": "code",
    "id": "a8DQ5E13N84-",
    "outputId": "0bbad293-3a1c-49b0-a907-a302692d98ac"
   },
   "outputs": [
    {
     "data": {
      "text/html": [
       "<video alt=\"test\" controls>\n",
       "                <source src=\"data:video/mp4;base64,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\" type=\"video/mp4\" />\n",
       "             </video>"
      ],
      "text/plain": [
       "<IPython.core.display.HTML object>"
      ]
     },
     "execution_count": 33,
     "metadata": {},
     "output_type": "execute_result"
    }
   ],
   "source": [
    "HTML(display_videos('cnn_test5.mp4'))"
   ]
  },
  {
   "cell_type": "code",
   "execution_count": 32,
   "metadata": {
    "colab": {
     "base_uri": "https://localhost:8080/",
     "height": 293
    },
    "colab_type": "code",
    "id": "vh7KbuEJN85F",
    "outputId": "458af760-712b-4114-8334-6fb053b28a92"
   },
   "outputs": [
    {
     "data": {
      "text/html": [
       "<video alt=\"test\" controls>\n",
       "                <source src=\"data:video/mp4;base64,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\" type=\"video/mp4\" />\n",
       "             </video>"
      ],
      "text/plain": [
       "<IPython.core.display.HTML object>"
      ]
     },
     "execution_count": 32,
     "metadata": {},
     "output_type": "execute_result"
    }
   ],
   "source": [
    "HTML(display_videos('fc_test10.mp4'))"
   ]
  },
  {
   "cell_type": "markdown",
   "metadata": {
    "colab_type": "text",
    "id": "mcilvdV0N85M"
   },
   "source": [
    "The models tend to not explore the entire board but rather getting stuck. In fact after eating in an area the agents will just hovering around and do nothing. Even if we have a map almost full of cheese (temperature of 0.8 and because we save cheese over poison the map is almsot fully cover of cheese) the models will not explore the rest of the board. Surprisingly when I tested the models with a temperature of 0.1 the models seem to explore a little bit more. But both models achieved some \"good\" performance since they won some games. I would have expected the CNN model to outperform the FC model but in my case the FC model performed better than the CNN (but the difference between the two is almost nothing when I tested)."
   ]
  },
  {
   "cell_type": "markdown",
   "metadata": {
    "colab_type": "text",
    "id": "HAlulF8bN85P"
   },
   "source": [
    "***\n",
    "\n",
    "The algorithm tends to not explore the map which can be an issue. We propose two ideas in order to encourage exploration:\n",
    "1. Incorporating a decreasing $\\epsilon$-greedy exploration. You can use the method ```set_epsilon```\n",
    "2. Append via the environment a new state that describes if a cell has been visited or not\n",
    "\n",
    "***\n",
    "__Question 10__ Design a new ```train_explore``` function and environment class ```EnvironmentExploring``` to tackle the issue of exploration.\n",
    "\n"
   ]
  },
  {
   "cell_type": "code",
   "execution_count": 34,
   "metadata": {
    "colab": {},
    "colab_type": "code",
    "id": "CFgg4J__N85Q"
   },
   "outputs": [],
   "source": [
    "def set_epsilon(epsilon, epoch, threshold=0.1):\n",
    "    temp = epsilon * ((epoch + 1) / (epoch + 2))\n",
    "    if temp < threshold:\n",
    "        return threshold\n",
    "    else:\n",
    "        return temp\n",
    "\n",
    "def train_explore(agent, env, epoch, prefix=''):\n",
    "    # Number of won games\n",
    "    score = 0\n",
    "    loss = 0\n",
    "    agent.epsilon = 1.0\n",
    "\n",
    "    for e in tqdm.tqdm_notebook(range(epoch)):\n",
    "        # At each epoch, we restart to a fresh game and get the initial state\n",
    "        state = env.reset()\n",
    "\n",
    "        # This assumes that the games will terminate\n",
    "        game_over = False\n",
    "\n",
    "        win = 0\n",
    "        lose = 0\n",
    "        \n",
    "        # update the exploration parameter (epsilon)\n",
    "        agent.epsilon = set_epsilon(agent.epsilon, e) \n",
    "\n",
    "        while not game_over:\n",
    "            # The agent performs an action\n",
    "            if prefix == 'cnn_train_explore':\n",
    "                action = agent.learned_act(state.flatten().reshape(1, 5, 5, 3)) # take action with the agent\n",
    "            else:\n",
    "                return np.nan\n",
    " \n",
    "            # Apply an action to the environment, get the next state, the reward\n",
    "            # and if the games end\n",
    "            prev_state = state\n",
    "            state, reward, game_over = env.act(action, train=True)\n",
    "\n",
    "            # Update the counters\n",
    "            if reward > 0:\n",
    "                win = win + reward\n",
    "            if reward < 0:\n",
    "                lose = lose - reward\n",
    "\n",
    "            # Apply the reinforcement strategy\n",
    "            loss = agent.reinforce(prev_state, state,  action, reward, game_over, prefix)\n",
    "\n",
    "        # Save as a mp4\n",
    "        if e % 10 == 0:\n",
    "            env.draw(prefix + str(e))\n",
    "\n",
    "        # Update stats\n",
    "        score += win - lose\n",
    "\n",
    "        print(f\"Epoch {e}/{epoch}, loss {round(np.float64(loss), 4)}, win/lose count {win}/{lose} ({win - lose})\")\n",
    "        agent.save(name_weights=prefix+'model.h5',name_model=prefix+'model.json')\n",
    "        \n",
    "class EnvironmentExploring(object):\n",
    "    def __init__(self, grid_size=10, max_time=500, temperature=0.1):\n",
    "        \n",
    "        self.env = Environment(grid_size=size, max_time=max_time, temperature=temperature)\n",
    "        self.malus_position = np.zeros((grid_size, grid_size)) # places we already visited\n",
    "        \n",
    "    def act(self, action, train=True):\n",
    "            \n",
    "        ### first update then env  \n",
    "        state, reward, game_over = self.env.act(action)\n",
    "        \n",
    "        ### get malus if we already visited (x, y), only in train mode\n",
    "        if train:\n",
    "            malus_already_visited = - self.malus_position[self.env.x, self.env.y]\n",
    "        else:\n",
    "            malus_already_visited = 0\n",
    "            \n",
    "        ### update the malus_position array\n",
    "        self.malus_position[self.env.x, self.env.y] = 0.1\n",
    "\n",
    "        ### finally we update the reward by considering the malus_position score\n",
    "        reward += malus_already_visited\n",
    "    \n",
    "        \n",
    "        ### 3-feature state instead of 2\n",
    "        malus_position_visible = self.malus_position[self.env.x - 2:self.env.x + 3, self.env.y - 2:self.env.y + 3]\n",
    "        state = np.concatenate((malus_position_visible.reshape(5, 5, 1), state), axis=2)\n",
    "        \n",
    "        return state, reward, game_over\n",
    "    \n",
    "    def draw(self, e):\n",
    "        self.env.draw(e)\n",
    "    \n",
    "    def reset(self):\n",
    "        \n",
    "        ### call the Environment reset function\n",
    "        state = self.env.reset()\n",
    "        \n",
    "        ### reset the malus_position array\n",
    "        self.malus_position = np.zeros((self.env.grid_size, self.env.grid_size))\n",
    "        \n",
    "        ### 3-feature state instead of 2\n",
    "        malus_position_visible = self.malus_position[self.env.x - 2:self.env.x + 3, self.env.y - 2:self.env.y + 3]\n",
    "        state = np.concatenate((malus_position_visible.reshape(5, 5, 1), state), axis=2)\n",
    "        \n",
    "        return state"
   ]
  },
  {
   "cell_type": "code",
   "execution_count": 35,
   "metadata": {
    "colab": {},
    "colab_type": "code",
    "id": "_F3lrnywN85V"
   },
   "outputs": [
    {
     "data": {
      "application/vnd.jupyter.widget-view+json": {
       "model_id": "0c9f67f9fa944f0da8d59a9d052d6efb",
       "version_major": 2,
       "version_minor": 0
      },
      "text/plain": [
       "HBox(children=(IntProgress(value=0, max=21), HTML(value='')))"
      ]
     },
     "metadata": {},
     "output_type": "display_data"
    },
    {
     "name": "stdout",
     "output_type": "stream",
     "text": [
      "Epoch 0/21, loss 0.0105, win/lose count 7.0/26.80000000000011 (-19.80000000000011)\n",
      "Epoch 1/21, loss 0.0126, win/lose count 16.0/24.800000000000047 (-8.800000000000047)\n",
      "Epoch 2/21, loss 0.0167, win/lose count 16.5/15.899999999999963 (0.600000000000037)\n",
      "Epoch 3/21, loss 0.0214, win/lose count 12.5/20.199999999999996 (-7.699999999999996)\n",
      "Epoch 4/21, loss 0.0099, win/lose count 13.0/21.900000000000045 (-8.900000000000045)\n",
      "Epoch 5/21, loss 0.0196, win/lose count 19.0/18.800000000000004 (0.19999999999999574)\n",
      "Epoch 6/21, loss 0.0259, win/lose count 21.5/20.100000000000016 (1.3999999999999844)\n",
      "Epoch 7/21, loss 0.0092, win/lose count 22.5/18.800000000000015 (3.699999999999985)\n",
      "Epoch 8/21, loss 0.0237, win/lose count 12.5/22.400000000000034 (-9.900000000000034)\n",
      "Epoch 9/21, loss 0.0151, win/lose count 21.5/14.899999999999974 (6.600000000000026)\n",
      "Epoch 10/21, loss 0.0145, win/lose count 16.0/19.099999999999998 (-3.099999999999998)\n",
      "Epoch 11/21, loss 0.0089, win/lose count 14.5/20.600000000000033 (-6.100000000000033)\n",
      "Epoch 12/21, loss 0.0106, win/lose count 20.0/20.000000000000036 (-3.552713678800501e-14)\n",
      "Epoch 13/21, loss 0.0308, win/lose count 28.0/19.00000000000001 (8.99999999999999)\n",
      "Epoch 14/21, loss 0.0263, win/lose count 23.5/16.49999999999998 (7.000000000000021)\n",
      "Epoch 15/21, loss 0.0374, win/lose count 15.0/24.400000000000066 (-9.400000000000066)\n",
      "Epoch 16/21, loss 0.0365, win/lose count 15.5/23.60000000000007 (-8.100000000000069)\n",
      "Epoch 17/21, loss 0.0171, win/lose count 21.5/23.600000000000033 (-2.1000000000000334)\n",
      "Epoch 18/21, loss 0.0383, win/lose count 17.5/20.3 (-2.8000000000000007)\n",
      "Epoch 19/21, loss 0.0211, win/lose count 18.5/15.899999999999972 (2.600000000000028)\n",
      "Epoch 20/21, loss 0.0189, win/lose count 20.5/18.900000000000013 (1.5999999999999872)\n",
      "\n"
     ]
    },
    {
     "data": {
      "text/html": [
       "<video alt=\"test\" controls>\n",
       "                <source src=\"data:video/mp4;base64,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\" type=\"video/mp4\" />\n",
       "             </video>"
      ],
      "text/plain": [
       "<IPython.core.display.HTML object>"
      ]
     },
     "execution_count": 35,
     "metadata": {},
     "output_type": "execute_result"
    }
   ],
   "source": [
    "# Training\n",
    "epochs_train = 21\n",
    "env = EnvironmentExploring(grid_size=size, max_time=T, temperature=0.3)\n",
    "agent = DQN_CNN(size, lr=0.001, epsilon=0.1, memory_size=2000, batch_size=32, n_state=3)\n",
    "train_explore(agent, env, epochs_train, prefix='cnn_train_explore')\n",
    "HTML(display_videos('cnn_train_explore20.mp4'))"
   ]
  },
  {
   "cell_type": "code",
   "execution_count": 36,
   "metadata": {
    "colab": {},
    "colab_type": "code",
    "id": "-8BYes-SN85b"
   },
   "outputs": [
    {
     "name": "stdout",
     "output_type": "stream",
     "text": [
      "Epoch 0, win/lose count 23.5/7.0, average score (16.5)\n",
      "Epoch 1, win/lose count 21.5/7.0, average score (15.5)\n",
      "Epoch 2, win/lose count 27.0/7.0, average score (17.0)\n",
      "Epoch 3, win/lose count 15.0/8.0, average score (14.5)\n",
      "Epoch 4, win/lose count 18.0/5.0, average score (14.2)\n",
      "Epoch 5, win/lose count 20.0/10.0, average score (13.5)\n",
      "Epoch 6, win/lose count 29.5/6.0, average score (14.93)\n",
      "Epoch 7, win/lose count 27.0/7.0, average score (15.56)\n",
      "Epoch 8, win/lose count 23.0/12.0, average score (15.06)\n",
      "Epoch 9, win/lose count 8.5/4.0, average score (14.0)\n",
      "Epoch 10, win/lose count 18.5/9.0, average score (13.59)\n",
      "Final score: 13.590909090909092\n"
     ]
    },
    {
     "data": {
      "text/html": [
       "<video alt=\"test\" controls>\n",
       "                <source src=\"data:video/mp4;base64,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\" type=\"video/mp4\" />\n",
       "             </video>"
      ],
      "text/plain": [
       "<IPython.core.display.HTML object>"
      ]
     },
     "execution_count": 36,
     "metadata": {},
     "output_type": "execute_result"
    }
   ],
   "source": [
    "# Evaluation\n",
    "test(agent, env, epochs_test, prefix='cnn_test_explore') \n",
    "HTML(display_videos('cnn_test_explore9.mp4'))"
   ]
  },
  {
   "cell_type": "code",
   "execution_count": 37,
   "metadata": {},
   "outputs": [
    {
     "data": {
      "text/html": [
       "<video alt=\"test\" controls>\n",
       "                <source src=\"data:video/mp4;base64,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\" type=\"video/mp4\" />\n",
       "             </video>"
      ],
      "text/plain": [
       "<IPython.core.display.HTML object>"
      ]
     },
     "execution_count": 37,
     "metadata": {},
     "output_type": "execute_result"
    }
   ],
   "source": [
    "HTML(display_videos('cnn_test_explore1.mp4'))"
   ]
  },
  {
   "cell_type": "markdown",
   "metadata": {
    "colab_type": "text",
    "id": "4vAQNfIfN85h"
   },
   "source": [
    "The model achieve exactly what we wanted\n",
    "\n",
    "***\n",
    "***\n",
    "__BONUS question__ Use the expert DQN from the previous question to generate some winning games. Train a model that mimicks its behavior. Compare the performances."
   ]
  },
  {
   "cell_type": "markdown",
   "metadata": {
    "colab_type": "text",
    "id": "rFRZBGW4N85i"
   },
   "source": [
    "It already wins all games. I don't understand \"Train a model that mimicks its behavior\"."
   ]
  },
  {
   "cell_type": "markdown",
   "metadata": {
    "colab_type": "text",
    "id": "HutWDrV5N85k"
   },
   "source": [
    "***"
   ]
  }
 ],
 "metadata": {
  "colab": {
   "collapsed_sections": [],
   "name": "DQN_project_MVA.ipynb",
   "provenance": []
  },
  "kernelspec": {
   "display_name": "Python 3",
   "language": "python",
   "name": "python3"
  },
  "language_info": {
   "codemirror_mode": {
    "name": "ipython",
    "version": 3
   },
   "file_extension": ".py",
   "mimetype": "text/x-python",
   "name": "python",
   "nbconvert_exporter": "python",
   "pygments_lexer": "ipython3",
   "version": "3.7.1"
  },
  "widgets": {
   "application/vnd.jupyter.widget-state+json": {
    "2682e36f3e9b44a6b062737849dcf427": {
     "model_module": "@jupyter-widgets/controls",
     "model_name": "HTMLModel",
     "state": {
      "_dom_classes": [],
      "_model_module": "@jupyter-widgets/controls",
      "_model_module_version": "1.5.0",
      "_model_name": "HTMLModel",
      "_view_count": null,
      "_view_module": "@jupyter-widgets/controls",
      "_view_module_version": "1.5.0",
      "_view_name": "HTMLView",
      "description": "",
      "description_tooltip": null,
      "layout": "IPY_MODEL_495c6b6613144212b6e1af8878b7e89c",
      "placeholder": "​",
      "style": "IPY_MODEL_92015ea17d2d41cb9e5d49191a93cf00",
      "value": "100% 11/11 [03:11&lt;00:00, 17.20s/it]"
     }
    },
    "2a0d00491d194b2ab29a7031a455170c": {
     "model_module": "@jupyter-widgets/base",
     "model_name": "LayoutModel",
     "state": {
      "_model_module": "@jupyter-widgets/base",
      "_model_module_version": "1.2.0",
      "_model_name": "LayoutModel",
      "_view_count": null,
      "_view_module": "@jupyter-widgets/base",
      "_view_module_version": "1.2.0",
      "_view_name": "LayoutView",
      "align_content": null,
      "align_items": null,
      "align_self": null,
      "border": null,
      "bottom": null,
      "display": null,
      "flex": null,
      "flex_flow": null,
      "grid_area": null,
      "grid_auto_columns": null,
      "grid_auto_flow": null,
      "grid_auto_rows": null,
      "grid_column": null,
      "grid_gap": null,
      "grid_row": null,
      "grid_template_areas": null,
      "grid_template_columns": null,
      "grid_template_rows": null,
      "height": null,
      "justify_content": null,
      "justify_items": null,
      "left": null,
      "margin": null,
      "max_height": null,
      "max_width": null,
      "min_height": null,
      "min_width": null,
      "object_fit": null,
      "object_position": null,
      "order": null,
      "overflow": null,
      "overflow_x": null,
      "overflow_y": null,
      "padding": null,
      "right": null,
      "top": null,
      "visibility": null,
      "width": null
     }
    },
    "33167516be44477d9554498579b632a5": {
     "model_module": "@jupyter-widgets/controls",
     "model_name": "IntProgressModel",
     "state": {
      "_dom_classes": [],
      "_model_module": "@jupyter-widgets/controls",
      "_model_module_version": "1.5.0",
      "_model_name": "IntProgressModel",
      "_view_count": null,
      "_view_module": "@jupyter-widgets/controls",
      "_view_module_version": "1.5.0",
      "_view_name": "ProgressView",
      "bar_style": "success",
      "description": "",
      "description_tooltip": null,
      "layout": "IPY_MODEL_95c3bc4d35d94ccdbb3fdedd734ac18c",
      "max": 11,
      "min": 0,
      "orientation": "horizontal",
      "style": "IPY_MODEL_f5cc298c97fa44fab16e1a752581685c",
      "value": 11
     }
    },
    "3ce2b8e1e1564962887c7f28cce4f616": {
     "model_module": "@jupyter-widgets/controls",
     "model_name": "DescriptionStyleModel",
     "state": {
      "_model_module": "@jupyter-widgets/controls",
      "_model_module_version": "1.5.0",
      "_model_name": "DescriptionStyleModel",
      "_view_count": null,
      "_view_module": "@jupyter-widgets/base",
      "_view_module_version": "1.2.0",
      "_view_name": "StyleView",
      "description_width": ""
     }
    },
    "495c6b6613144212b6e1af8878b7e89c": {
     "model_module": "@jupyter-widgets/base",
     "model_name": "LayoutModel",
     "state": {
      "_model_module": "@jupyter-widgets/base",
      "_model_module_version": "1.2.0",
      "_model_name": "LayoutModel",
      "_view_count": null,
      "_view_module": "@jupyter-widgets/base",
      "_view_module_version": "1.2.0",
      "_view_name": "LayoutView",
      "align_content": null,
      "align_items": null,
      "align_self": null,
      "border": null,
      "bottom": null,
      "display": null,
      "flex": null,
      "flex_flow": null,
      "grid_area": null,
      "grid_auto_columns": null,
      "grid_auto_flow": null,
      "grid_auto_rows": null,
      "grid_column": null,
      "grid_gap": null,
      "grid_row": null,
      "grid_template_areas": null,
      "grid_template_columns": null,
      "grid_template_rows": null,
      "height": null,
      "justify_content": null,
      "justify_items": null,
      "left": null,
      "margin": null,
      "max_height": null,
      "max_width": null,
      "min_height": null,
      "min_width": null,
      "object_fit": null,
      "object_position": null,
      "order": null,
      "overflow": null,
      "overflow_x": null,
      "overflow_y": null,
      "padding": null,
      "right": null,
      "top": null,
      "visibility": null,
      "width": null
     }
    },
    "635afb59e45b49a6ba1677819b2191e7": {
     "model_module": "@jupyter-widgets/controls",
     "model_name": "HBoxModel",
     "state": {
      "_dom_classes": [],
      "_model_module": "@jupyter-widgets/controls",
      "_model_module_version": "1.5.0",
      "_model_name": "HBoxModel",
      "_view_count": null,
      "_view_module": "@jupyter-widgets/controls",
      "_view_module_version": "1.5.0",
      "_view_name": "HBoxView",
      "box_style": "",
      "children": [
       "IPY_MODEL_b95c8f2044854174bba824e159c8d0fe",
       "IPY_MODEL_85ed21bbd9b94df7bcc25ed09c8b37f5"
      ],
      "layout": "IPY_MODEL_c4b39e8bc9b846778702dd4be575ab38"
     }
    },
    "6986284889c94699bfccc85292a66362": {
     "model_module": "@jupyter-widgets/base",
     "model_name": "LayoutModel",
     "state": {
      "_model_module": "@jupyter-widgets/base",
      "_model_module_version": "1.2.0",
      "_model_name": "LayoutModel",
      "_view_count": null,
      "_view_module": "@jupyter-widgets/base",
      "_view_module_version": "1.2.0",
      "_view_name": "LayoutView",
      "align_content": null,
      "align_items": null,
      "align_self": null,
      "border": null,
      "bottom": null,
      "display": null,
      "flex": null,
      "flex_flow": null,
      "grid_area": null,
      "grid_auto_columns": null,
      "grid_auto_flow": null,
      "grid_auto_rows": null,
      "grid_column": null,
      "grid_gap": null,
      "grid_row": null,
      "grid_template_areas": null,
      "grid_template_columns": null,
      "grid_template_rows": null,
      "height": null,
      "justify_content": null,
      "justify_items": null,
      "left": null,
      "margin": null,
      "max_height": null,
      "max_width": null,
      "min_height": null,
      "min_width": null,
      "object_fit": null,
      "object_position": null,
      "order": null,
      "overflow": null,
      "overflow_x": null,
      "overflow_y": null,
      "padding": null,
      "right": null,
      "top": null,
      "visibility": null,
      "width": null
     }
    },
    "85ed21bbd9b94df7bcc25ed09c8b37f5": {
     "model_module": "@jupyter-widgets/controls",
     "model_name": "HTMLModel",
     "state": {
      "_dom_classes": [],
      "_model_module": "@jupyter-widgets/controls",
      "_model_module_version": "1.5.0",
      "_model_name": "HTMLModel",
      "_view_count": null,
      "_view_module": "@jupyter-widgets/controls",
      "_view_module_version": "1.5.0",
      "_view_name": "HTMLView",
      "description": "",
      "description_tooltip": null,
      "layout": "IPY_MODEL_2a0d00491d194b2ab29a7031a455170c",
      "placeholder": "​",
      "style": "IPY_MODEL_3ce2b8e1e1564962887c7f28cce4f616",
      "value": "100% 11/11 [03:08&lt;00:00, 17.02s/it]"
     }
    },
    "92015ea17d2d41cb9e5d49191a93cf00": {
     "model_module": "@jupyter-widgets/controls",
     "model_name": "DescriptionStyleModel",
     "state": {
      "_model_module": "@jupyter-widgets/controls",
      "_model_module_version": "1.5.0",
      "_model_name": "DescriptionStyleModel",
      "_view_count": null,
      "_view_module": "@jupyter-widgets/base",
      "_view_module_version": "1.2.0",
      "_view_name": "StyleView",
      "description_width": ""
     }
    },
    "95c3bc4d35d94ccdbb3fdedd734ac18c": {
     "model_module": "@jupyter-widgets/base",
     "model_name": "LayoutModel",
     "state": {
      "_model_module": "@jupyter-widgets/base",
      "_model_module_version": "1.2.0",
      "_model_name": "LayoutModel",
      "_view_count": null,
      "_view_module": "@jupyter-widgets/base",
      "_view_module_version": "1.2.0",
      "_view_name": "LayoutView",
      "align_content": null,
      "align_items": null,
      "align_self": null,
      "border": null,
      "bottom": null,
      "display": null,
      "flex": null,
      "flex_flow": null,
      "grid_area": null,
      "grid_auto_columns": null,
      "grid_auto_flow": null,
      "grid_auto_rows": null,
      "grid_column": null,
      "grid_gap": null,
      "grid_row": null,
      "grid_template_areas": null,
      "grid_template_columns": null,
      "grid_template_rows": null,
      "height": null,
      "justify_content": null,
      "justify_items": null,
      "left": null,
      "margin": null,
      "max_height": null,
      "max_width": null,
      "min_height": null,
      "min_width": null,
      "object_fit": null,
      "object_position": null,
      "order": null,
      "overflow": null,
      "overflow_x": null,
      "overflow_y": null,
      "padding": null,
      "right": null,
      "top": null,
      "visibility": null,
      "width": null
     }
    },
    "b95c8f2044854174bba824e159c8d0fe": {
     "model_module": "@jupyter-widgets/controls",
     "model_name": "IntProgressModel",
     "state": {
      "_dom_classes": [],
      "_model_module": "@jupyter-widgets/controls",
      "_model_module_version": "1.5.0",
      "_model_name": "IntProgressModel",
      "_view_count": null,
      "_view_module": "@jupyter-widgets/controls",
      "_view_module_version": "1.5.0",
      "_view_name": "ProgressView",
      "bar_style": "success",
      "description": "",
      "description_tooltip": null,
      "layout": "IPY_MODEL_e06aa950c3a24b9eb01736a8402cc2b0",
      "max": 11,
      "min": 0,
      "orientation": "horizontal",
      "style": "IPY_MODEL_c7f98f9f5da94c24a2d862a053a61de9",
      "value": 11
     }
    },
    "c4b39e8bc9b846778702dd4be575ab38": {
     "model_module": "@jupyter-widgets/base",
     "model_name": "LayoutModel",
     "state": {
      "_model_module": "@jupyter-widgets/base",
      "_model_module_version": "1.2.0",
      "_model_name": "LayoutModel",
      "_view_count": null,
      "_view_module": "@jupyter-widgets/base",
      "_view_module_version": "1.2.0",
      "_view_name": "LayoutView",
      "align_content": null,
      "align_items": null,
      "align_self": null,
      "border": null,
      "bottom": null,
      "display": null,
      "flex": null,
      "flex_flow": null,
      "grid_area": null,
      "grid_auto_columns": null,
      "grid_auto_flow": null,
      "grid_auto_rows": null,
      "grid_column": null,
      "grid_gap": null,
      "grid_row": null,
      "grid_template_areas": null,
      "grid_template_columns": null,
      "grid_template_rows": null,
      "height": null,
      "justify_content": null,
      "justify_items": null,
      "left": null,
      "margin": null,
      "max_height": null,
      "max_width": null,
      "min_height": null,
      "min_width": null,
      "object_fit": null,
      "object_position": null,
      "order": null,
      "overflow": null,
      "overflow_x": null,
      "overflow_y": null,
      "padding": null,
      "right": null,
      "top": null,
      "visibility": null,
      "width": null
     }
    },
    "c7f98f9f5da94c24a2d862a053a61de9": {
     "model_module": "@jupyter-widgets/controls",
     "model_name": "ProgressStyleModel",
     "state": {
      "_model_module": "@jupyter-widgets/controls",
      "_model_module_version": "1.5.0",
      "_model_name": "ProgressStyleModel",
      "_view_count": null,
      "_view_module": "@jupyter-widgets/base",
      "_view_module_version": "1.2.0",
      "_view_name": "StyleView",
      "bar_color": null,
      "description_width": ""
     }
    },
    "d185d8c910cc450f8e99d78e38ec6731": {
     "model_module": "@jupyter-widgets/controls",
     "model_name": "HBoxModel",
     "state": {
      "_dom_classes": [],
      "_model_module": "@jupyter-widgets/controls",
      "_model_module_version": "1.5.0",
      "_model_name": "HBoxModel",
      "_view_count": null,
      "_view_module": "@jupyter-widgets/controls",
      "_view_module_version": "1.5.0",
      "_view_name": "HBoxView",
      "box_style": "",
      "children": [
       "IPY_MODEL_33167516be44477d9554498579b632a5",
       "IPY_MODEL_2682e36f3e9b44a6b062737849dcf427"
      ],
      "layout": "IPY_MODEL_6986284889c94699bfccc85292a66362"
     }
    },
    "e06aa950c3a24b9eb01736a8402cc2b0": {
     "model_module": "@jupyter-widgets/base",
     "model_name": "LayoutModel",
     "state": {
      "_model_module": "@jupyter-widgets/base",
      "_model_module_version": "1.2.0",
      "_model_name": "LayoutModel",
      "_view_count": null,
      "_view_module": "@jupyter-widgets/base",
      "_view_module_version": "1.2.0",
      "_view_name": "LayoutView",
      "align_content": null,
      "align_items": null,
      "align_self": null,
      "border": null,
      "bottom": null,
      "display": null,
      "flex": null,
      "flex_flow": null,
      "grid_area": null,
      "grid_auto_columns": null,
      "grid_auto_flow": null,
      "grid_auto_rows": null,
      "grid_column": null,
      "grid_gap": null,
      "grid_row": null,
      "grid_template_areas": null,
      "grid_template_columns": null,
      "grid_template_rows": null,
      "height": null,
      "justify_content": null,
      "justify_items": null,
      "left": null,
      "margin": null,
      "max_height": null,
      "max_width": null,
      "min_height": null,
      "min_width": null,
      "object_fit": null,
      "object_position": null,
      "order": null,
      "overflow": null,
      "overflow_x": null,
      "overflow_y": null,
      "padding": null,
      "right": null,
      "top": null,
      "visibility": null,
      "width": null
     }
    },
    "f5cc298c97fa44fab16e1a752581685c": {
     "model_module": "@jupyter-widgets/controls",
     "model_name": "ProgressStyleModel",
     "state": {
      "_model_module": "@jupyter-widgets/controls",
      "_model_module_version": "1.5.0",
      "_model_name": "ProgressStyleModel",
      "_view_count": null,
      "_view_module": "@jupyter-widgets/base",
      "_view_module_version": "1.2.0",
      "_view_name": "StyleView",
      "bar_color": null,
      "description_width": ""
     }
    }
   }
  }
 },
 "nbformat": 4,
 "nbformat_minor": 1
}
